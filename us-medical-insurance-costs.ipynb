{
 "cells": [
  {
   "cell_type": "markdown",
   "metadata": {},
   "source": [
    "# U.S. Medical Insurance Costs"
   ]
  },
  {
   "cell_type": "markdown",
   "metadata": {},
   "source": [
    "## Introduction"
   ]
  },
  {
   "cell_type": "markdown",
   "metadata": {},
   "source": [
    "In this analysis, I will explore an insurance dataset containing information about patients, including their age, se, BMI, number of children, smoking status, region, and charges."
   ]
  },
  {
   "cell_type": "markdown",
   "metadata": {},
   "source": [
    "## Data"
   ]
  },
  {
   "cell_type": "markdown",
   "metadata": {},
   "source": [
    "### Data Description\n",
    "The dataset contains the following columns:\n",
    "- Age: Age of the patient\n",
    "- Sex: Gender of the patient\n",
    "- BMI: Body Mass Index of the patient\n",
    "- Children: Number of children the patient has\n",
    "- Smoker: Smoking status of the patient (yes/no)\n",
    "- Region: Region where the patient resides\n",
    "- Charges: Medical charges billed to the patient"
   ]
  },
  {
   "cell_type": "markdown",
   "metadata": {},
   "source": [
    "## Goals"
   ]
  },
  {
   "cell_type": "markdown",
   "metadata": {},
   "source": [
    "1. Analyze the demographic characteristics of the individuals in the dataset.\n",
    "2. Determine the geographic distribution of the individuals.\n",
    "3. Compare the costs between smokers and non-smokers and analyze their demographics.\n",
    "4. Determine the average age of individuals with at least one child."
   ]
  },
  {
   "cell_type": "markdown",
   "metadata": {},
   "source": [
    "## Analysis (Without Pandas)"
   ]
  },
  {
   "cell_type": "code",
   "execution_count": 1,
   "metadata": {},
   "outputs": [],
   "source": [
    "import csv"
   ]
  },
  {
   "cell_type": "code",
   "execution_count": 2,
   "metadata": {},
   "outputs": [],
   "source": [
    "# function to read the csv file\n",
    "def read_csv(filename):\n",
    "    data = []\n",
    "    with open(filename, \"r\") as file:\n",
    "        reader = csv.DictReader(file)\n",
    "        for row in reader:\n",
    "            data.append(row)\n",
    "    return data"
   ]
  },
  {
   "cell_type": "code",
   "execution_count": 3,
   "metadata": {},
   "outputs": [
    {
     "name": "stdout",
     "output_type": "stream",
     "text": [
      "[{'age': '19', 'sex': 'female', 'bmi': '27.9', 'children': '0', 'smoker': 'yes', 'region': 'southwest', 'charges': '16884.924'}, {'age': '18', 'sex': 'male', 'bmi': '33.77', 'children': '1', 'smoker': 'no', 'region': 'southeast', 'charges': '1725.5523'}, {'age': '28', 'sex': 'male', 'bmi': '33', 'children': '3', 'smoker': 'no', 'region': 'southeast', 'charges': '4449.462'}, {'age': '33', 'sex': 'male', 'bmi': '22.705', 'children': '0', 'smoker': 'no', 'region': 'northwest', 'charges': '21984.47061'}, {'age': '32', 'sex': 'male', 'bmi': '28.88', 'children': '0', 'smoker': 'no', 'region': 'northwest', 'charges': '3866.8552'}]\n"
     ]
    }
   ],
   "source": [
    "# load the dataset\n",
    "insurance_data = read_csv(\"insurance.csv\")\n",
    "print(insurance_data[:5])"
   ]
  },
  {
   "cell_type": "code",
   "execution_count": 4,
   "metadata": {},
   "outputs": [],
   "source": [
    "# extract columns from the dataset\n",
    "ages = []\n",
    "sexes = []\n",
    "bmis = []\n",
    "num_children = []\n",
    "smoker_statuses = []\n",
    "regions = []\n",
    "charges = []\n",
    "\n",
    "for row in insurance_data:\n",
    "    ages.append(float(row['age']))\n",
    "    sexes.append(row['sex'])\n",
    "    bmis.append(float(row['bmi']))\n",
    "    num_children.append(int(row['children']))\n",
    "    smoker_statuses.append(row['smoker'])\n",
    "    regions.append(row['region'])\n",
    "    charges.append(float(row['charges']))\n"
   ]
  },
  {
   "cell_type": "code",
   "execution_count": 5,
   "metadata": {},
   "outputs": [
    {
     "name": "stdout",
     "output_type": "stream",
     "text": [
      "Average_age 39.20702541106129\n"
     ]
    }
   ],
   "source": [
    "# function to calculate the average age\n",
    "def average(ages):\n",
    "    total_age = 0\n",
    "    for age in ages:\n",
    "        total_age += age\n",
    "    average_age = total_age / len(ages)\n",
    "    return average_age\n",
    "\n",
    "average_age = average(ages)\n",
    "print(\"Average_age\", average_age)"
   ]
  },
  {
   "cell_type": "code",
   "execution_count": 6,
   "metadata": {},
   "outputs": [
    {
     "name": "stdout",
     "output_type": "stream",
     "text": [
      "Count by Region: {'southwest': 325, 'southeast': 364, 'northwest': 325, 'northeast': 324}\n"
     ]
    }
   ],
   "source": [
    "# function to count the number of insured individuals by region\n",
    "def count_by_region(regions):\n",
    "    region_counts = {}\n",
    "    for region in regions:\n",
    "        region_counts[region] = region_counts.get(region, 0)  + 1\n",
    "    return region_counts\n",
    "\n",
    "region_counts = count_by_region(regions)\n",
    "print(\"Count by Region:\", region_counts)"
   ]
  },
  {
   "cell_type": "code",
   "execution_count": 7,
   "metadata": {},
   "outputs": [
    {
     "name": "stdout",
     "output_type": "stream",
     "text": [
      "Average Charges by Smoking Status: {'smoker': 32050.23183153285, 'non-smoker': 8434.268297856199}\n"
     ]
    }
   ],
   "source": [
    "# function to compare the insurance charges between smokers and non-smokers\n",
    "def compare_charges_by_smoking_status(charges, smoker_statuses):\n",
    "    smoker_charges = []\n",
    "    non_smoker_charges = []\n",
    "    for charge, smoker_status in zip(charges, smoker_statuses):\n",
    "        if smoker_status == \"yes\":\n",
    "            smoker_charges.append(charge)\n",
    "        else:\n",
    "            non_smoker_charges.append(charge)\n",
    "    avg_charges = {'smoker': average(smoker_charges),\n",
    "                   'non-smoker': average(non_smoker_charges)}\n",
    "    return avg_charges\n",
    "\n",
    "avg_charges_by_smoking = compare_charges_by_smoking_status(charges, smoker_statuses)\n",
    "print(\"Average Charges by Smoking Status:\", avg_charges_by_smoking)"
   ]
  },
  {
   "cell_type": "code",
   "execution_count": 8,
   "metadata": {},
   "outputs": [
    {
     "name": "stdout",
     "output_type": "stream",
     "text": [
      "Average Age of Individuals with Children: 39.78010471204188\n"
     ]
    }
   ],
   "source": [
    "# function to determine the average age of individuals with at least one child\n",
    "def average_age_with_children(ages, num_children):\n",
    "    age_with_children = [age for age, children in zip(ages, num_children) if children >= 1]\n",
    "    average_age_with_children = average(age_with_children)\n",
    "    return average_age_with_children\n",
    "\n",
    "average_age_with_children = average_age_with_children(ages, num_children)\n",
    "print(\"Average Age of Individuals with Children:\", average_age_with_children)\n"
   ]
  },
  {
   "cell_type": "markdown",
   "metadata": {},
   "source": [
    "**Conclusion:**\n",
    "\n",
    "Here are the key findings from my analysis:\n",
    "\n",
    "1. **Average Age**: The average age of insured individuals in the dataset is approximately 39 years.\n",
    "\n",
    "2. **Distribution by Region**: I observed the distribution of insured individuals across different regions. `southeast` had the highest number of `364` insured individuals, followed by `southwest`: `325`, `northwest`: `325` and lastly `northeast`: `324`.\n",
    "\n",
    "3. **Comparison of Insurance Charges**: I compared the average insurance charges between smokers and non-smokers. On average, smokers tend to have higher insurance charges `32,050`compared to non-smokers `8434`.\n",
    "\n",
    "4. **Average Age of Individuals with Children**: The average age of individuals who have at least one child is around `40 years`.\n",
    "\n",
    "These findings provide valuable insights for insurance companies in understanding their customer demographics and pricing strategies. Further analysis and exploration could involve investigating additional factors such as BMI, gender, and their impact on insurance charges.\n",
    "\n",
    "Overall, this analysis contributes to our understanding of the insurance landscape and can help inform decision-making processes for insurance providers."
   ]
  },
  {
   "cell_type": "markdown",
   "metadata": {},
   "source": []
  }
 ],
 "metadata": {
  "kernelspec": {
   "display_name": "Python 3",
   "language": "python",
   "name": "python3"
  },
  "language_info": {
   "codemirror_mode": {
    "name": "ipython",
    "version": 3
   },
   "file_extension": ".py",
   "mimetype": "text/x-python",
   "name": "python",
   "nbconvert_exporter": "python",
   "pygments_lexer": "ipython3",
   "version": "3.12.2"
  }
 },
 "nbformat": 4,
 "nbformat_minor": 4
}
